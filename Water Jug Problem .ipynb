{
 "cells": [
  {
   "cell_type": "code",
   "execution_count": null,
   "id": "7e86b3c8",
   "metadata": {},
   "outputs": [],
   "source": [
    "class State:\n",
    "    def__init__(self,x,y,ID, parent,children):\n",
    "        self.x = x\n",
    "        self.y = y\n",
    "        self.id = ID\n",
    "        self.parent = parent\n",
    "        self.children = children\n",
    "    def fillX(self):\n",
    "        self.x = jug_1_cap\n",
    "    def fillY(self):\n",
    "        self.y = jug_2_cap\n",
    "    def fillXfromY(self):\n",
    "        if(self.y >= jug_1_cap-self.x):\n",
    "            self.y = self.y-(jug_1_cap - self.x)\n",
    "            self.x = jug_1_cap\n",
    "        else:\n",
    "            self.x = self.x +self.y\n",
    "            self.y = 0"
   ]
  }
 ],
 "metadata": {
  "kernelspec": {
   "display_name": "Python 3",
   "language": "python",
   "name": "python3"
  },
  "language_info": {
   "codemirror_mode": {
    "name": "ipython",
    "version": 3
   },
   "file_extension": ".py",
   "mimetype": "text/x-python",
   "name": "python",
   "nbconvert_exporter": "python",
   "pygments_lexer": "ipython3",
   "version": "3.8.8"
  }
 },
 "nbformat": 4,
 "nbformat_minor": 5
}
